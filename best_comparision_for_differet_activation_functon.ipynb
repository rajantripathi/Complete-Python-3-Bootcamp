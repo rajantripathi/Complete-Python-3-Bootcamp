{
  "nbformat": 4,
  "nbformat_minor": 0,
  "metadata": {
    "colab": {
      "provenance": [],
      "authorship_tag": "ABX9TyNUo+J0E2Wvzkc18EljkNu3",
      "include_colab_link": true
    },
    "kernelspec": {
      "name": "python3",
      "display_name": "Python 3"
    },
    "language_info": {
      "name": "python"
    },
    "accelerator": "GPU",
    "gpuClass": "standard"
  },
  "cells": [
    {
      "cell_type": "markdown",
      "metadata": {
        "id": "view-in-github",
        "colab_type": "text"
      },
      "source": [
        "<a href=\"https://colab.research.google.com/github/rajantripathi/Complete-Python-3-Bootcamp/blob/master/best_comparision_for_differet_activation_functon.ipynb\" target=\"_parent\"><img src=\"https://colab.research.google.com/assets/colab-badge.svg\" alt=\"Open In Colab\"/></a>"
      ]
    },
    {
      "cell_type": "code",
      "execution_count": 1,
      "metadata": {
        "id": "93fi96pBcJfc"
      },
      "outputs": [],
      "source": [
        "import tensorflow as tf\n",
        "from tensorflow  import keras\n",
        "from keras import layers  , models , datasets\n",
        "import matplotlib.pyplot as plt \n",
        "from keras.layers import Dense"
      ]
    },
    {
      "cell_type": "code",
      "source": [
        "(X_train , y_train) , (X_test , y_test)=datasets.mnist.load_data()"
      ],
      "metadata": {
        "colab": {
          "base_uri": "https://localhost:8080/"
        },
        "id": "gFmjK3j9cqHo",
        "outputId": "f7560bbf-bcf5-4caf-b892-836a3e41d25f"
      },
      "execution_count": 2,
      "outputs": [
        {
          "output_type": "stream",
          "name": "stdout",
          "text": [
            "Downloading data from https://storage.googleapis.com/tensorflow/tf-keras-datasets/mnist.npz\n",
            "11490434/11490434 [==============================] - 2s 0us/step\n"
          ]
        }
      ]
    },
    {
      "cell_type": "code",
      "source": [
        "X_train = X_train.astype('float32')/255\n",
        "X_test = X_test.astype('float32')/255"
      ],
      "metadata": {
        "id": "tue78m1bdLAg"
      },
      "execution_count": 3,
      "outputs": []
    },
    {
      "cell_type": "code",
      "source": [
        "X_train_f = X_train.reshape(len(X_train) , 28*28) \n",
        "X_test_f = X_test.reshape(len(X_test) , 28*28)"
      ],
      "metadata": {
        "id": "PAbFfFIOgRLu"
      },
      "execution_count": 4,
      "outputs": []
    },
    {
      "cell_type": "code",
      "source": [
        "#normalize\n",
        "\n",
        "y_train = keras.utils.to_categorical(y_train , 10)\n",
        "y_test = keras.utils.to_categorical(y_test , 10)"
      ],
      "metadata": {
        "id": "Y1W_BjkzdV3m"
      },
      "execution_count": 5,
      "outputs": []
    },
    {
      "cell_type": "code",
      "source": [],
      "metadata": {
        "id": "Jt1_iRAaeLWO"
      },
      "execution_count": 7,
      "outputs": []
    },
    {
      "cell_type": "code",
      "source": [
        "nn_segmoid  = models.Sequential()\n",
        "\n",
        "nn_segmoid.add(Dense(700 , input_dim = 784 , activation = 'sigmoid' ))\n",
        "nn_segmoid.add(Dense(700 , activation = 'sigmoid' ))\n",
        "nn_segmoid.add(Dense(700 , activation = 'sigmoid' ))\n",
        "nn_segmoid.add(Dense(700 , activation = 'sigmoid' ))\n",
        "nn_segmoid.add(Dense(700 , activation = 'sigmoid' ))\n",
        "nn_segmoid.add(Dense(350 , activation = 'sigmoid' ))\n",
        "nn_segmoid.add(Dense(100 , activation = 'sigmoid' ))\n",
        "nn_segmoid.add(Dense(10 , activation = 'softmax' ))    \n",
        "\n",
        "\n",
        "nn_segmoid.compile(optimizer = 'sgd' , loss = 'categorical_crossentropy' , metrics = ['accuracy'])"
      ],
      "metadata": {
        "id": "0ioyVDKJeM6J"
      },
      "execution_count": 8,
      "outputs": []
    },
    {
      "cell_type": "code",
      "source": [
        "nn_relu  = models.Sequential()\n",
        "\n",
        "nn_relu.add(Dense(700 , input_dim = 784 , activation = 'relu' ))\n",
        "nn_relu.add(Dense(700 , activation = 'relu' ))\n",
        "nn_relu.add(Dense(700 , activation = 'relu' ))\n",
        "nn_relu.add(Dense(700 , activation = 'relu' ))\n",
        "nn_relu.add(Dense(700 , activation = 'relu' ))\n",
        "nn_relu.add(Dense(350 , activation = 'relu' ))\n",
        "nn_relu.add(Dense(100 , activation = 'relu' ))\n",
        "nn_relu.add(Dense(10 , activation = 'softmax' ))\n",
        "\n",
        "\n",
        "\n",
        "nn_relu.compile(optimizer = 'sgd' , loss = 'categorical_crossentropy' , metrics = ['accuracy'])"
      ],
      "metadata": {
        "id": "KC0LPcokhnjt"
      },
      "execution_count": 9,
      "outputs": []
    },
    {
      "cell_type": "code",
      "source": [
        "nn_elu  = models.Sequential()\n",
        "\n",
        "nn_elu.add(Dense(700 , input_dim = 784 , activation = 'elu' ))\n",
        "nn_elu.add(Dense(700 , activation = 'elu' ))\n",
        "nn_elu.add(Dense(700 , activation = 'elu' ))\n",
        "nn_elu.add(Dense(700 , activation = 'elu' ))\n",
        "nn_elu.add(Dense(700 , activation = 'elu' ))\n",
        "nn_elu.add(Dense(350 , activation = 'elu' ))\n",
        "nn_elu.add(Dense(100 , activation = 'elu' ))\n",
        "nn_elu.add(Dense(10 , activation = 'softmax' ))\n",
        "\n",
        "\n",
        "nn_elu.compile(optimizer = 'sgd' , loss = 'categorical_crossentropy' , metrics = ['accuracy'])"
      ],
      "metadata": {
        "id": "vwvxEkmKjL2c"
      },
      "execution_count": 10,
      "outputs": []
    },
    {
      "cell_type": "code",
      "source": [
        "class history_loss(keras.callbacks.Callback):\n",
        "  def on_train_begin(self, logs ={}):\n",
        "    self.losses = []\n",
        "\n",
        "  def on_batch_end(self, batch , logs ={}):\n",
        "    self.losses.append(logs.get('loss'))\n"
      ],
      "metadata": {
        "id": "o-If37SCjZWq"
      },
      "execution_count": 11,
      "outputs": []
    },
    {
      "cell_type": "code",
      "source": [
        "batch_size = 256\n"
      ],
      "metadata": {
        "id": "8Rk7iucMkzwV"
      },
      "execution_count": 12,
      "outputs": []
    },
    {
      "cell_type": "code",
      "source": [
        "\n",
        "\n",
        "sigmoid_loss = history_loss()\n",
        "\n",
        "nn_segmoid.fit(X_train_f , y_train , epochs = 20 , batch_size= batch_size , callbacks = [sigmoid_loss] , validation_split = 0.2 , verbose = 2 )"
      ],
      "metadata": {
        "colab": {
          "base_uri": "https://localhost:8080/"
        },
        "id": "A8nyuEn1kSdB",
        "outputId": "5545759a-9636-4251-ccce-c53868ed0644"
      },
      "execution_count": 13,
      "outputs": [
        {
          "output_type": "stream",
          "name": "stdout",
          "text": [
            "Epoch 1/20\n",
            "188/188 - 7s - loss: 2.3209 - accuracy: 0.1087 - val_loss: 2.3018 - val_accuracy: 0.1060 - 7s/epoch - 37ms/step\n",
            "Epoch 2/20\n",
            "188/188 - 2s - loss: 2.3013 - accuracy: 0.1140 - val_loss: 2.3021 - val_accuracy: 0.1060 - 2s/epoch - 8ms/step\n",
            "Epoch 3/20\n",
            "188/188 - 1s - loss: 2.3014 - accuracy: 0.1140 - val_loss: 2.3024 - val_accuracy: 0.1060 - 1s/epoch - 8ms/step\n",
            "Epoch 4/20\n",
            "188/188 - 1s - loss: 2.3014 - accuracy: 0.1140 - val_loss: 2.3024 - val_accuracy: 0.1060 - 1s/epoch - 8ms/step\n",
            "Epoch 5/20\n",
            "188/188 - 1s - loss: 2.3014 - accuracy: 0.1140 - val_loss: 2.3019 - val_accuracy: 0.1060 - 973ms/epoch - 5ms/step\n",
            "Epoch 6/20\n",
            "188/188 - 1s - loss: 2.3014 - accuracy: 0.1140 - val_loss: 2.3023 - val_accuracy: 0.1060 - 873ms/epoch - 5ms/step\n",
            "Epoch 7/20\n",
            "188/188 - 1s - loss: 2.3014 - accuracy: 0.1140 - val_loss: 2.3030 - val_accuracy: 0.1060 - 854ms/epoch - 5ms/step\n",
            "Epoch 8/20\n",
            "188/188 - 1s - loss: 2.3013 - accuracy: 0.1140 - val_loss: 2.3020 - val_accuracy: 0.1060 - 881ms/epoch - 5ms/step\n",
            "Epoch 9/20\n",
            "188/188 - 1s - loss: 2.3013 - accuracy: 0.1140 - val_loss: 2.3023 - val_accuracy: 0.1060 - 841ms/epoch - 4ms/step\n",
            "Epoch 10/20\n",
            "188/188 - 1s - loss: 2.3013 - accuracy: 0.1138 - val_loss: 2.3030 - val_accuracy: 0.1060 - 1s/epoch - 8ms/step\n",
            "Epoch 11/20\n",
            "188/188 - 2s - loss: 2.3014 - accuracy: 0.1135 - val_loss: 2.3028 - val_accuracy: 0.1060 - 2s/epoch - 11ms/step\n",
            "Epoch 12/20\n",
            "188/188 - 1s - loss: 2.3014 - accuracy: 0.1140 - val_loss: 2.3027 - val_accuracy: 0.1060 - 918ms/epoch - 5ms/step\n",
            "Epoch 13/20\n",
            "188/188 - 1s - loss: 2.3013 - accuracy: 0.1140 - val_loss: 2.3027 - val_accuracy: 0.1060 - 855ms/epoch - 5ms/step\n",
            "Epoch 14/20\n",
            "188/188 - 1s - loss: 2.3014 - accuracy: 0.1140 - val_loss: 2.3024 - val_accuracy: 0.1060 - 847ms/epoch - 5ms/step\n",
            "Epoch 15/20\n",
            "188/188 - 1s - loss: 2.3013 - accuracy: 0.1140 - val_loss: 2.3026 - val_accuracy: 0.1060 - 858ms/epoch - 5ms/step\n",
            "Epoch 16/20\n",
            "188/188 - 1s - loss: 2.3014 - accuracy: 0.1140 - val_loss: 2.3024 - val_accuracy: 0.1060 - 849ms/epoch - 5ms/step\n",
            "Epoch 17/20\n",
            "188/188 - 1s - loss: 2.3014 - accuracy: 0.1140 - val_loss: 2.3022 - val_accuracy: 0.1060 - 890ms/epoch - 5ms/step\n",
            "Epoch 18/20\n",
            "188/188 - 1s - loss: 2.3014 - accuracy: 0.1140 - val_loss: 2.3021 - val_accuracy: 0.1060 - 877ms/epoch - 5ms/step\n",
            "Epoch 19/20\n",
            "188/188 - 1s - loss: 2.3013 - accuracy: 0.1140 - val_loss: 2.3024 - val_accuracy: 0.1060 - 831ms/epoch - 4ms/step\n",
            "Epoch 20/20\n",
            "188/188 - 1s - loss: 2.3014 - accuracy: 0.1140 - val_loss: 2.3027 - val_accuracy: 0.1060 - 817ms/epoch - 4ms/step\n"
          ]
        },
        {
          "output_type": "execute_result",
          "data": {
            "text/plain": [
              "<keras.callbacks.History at 0x7f7a883101c0>"
            ]
          },
          "metadata": {},
          "execution_count": 13
        }
      ]
    },
    {
      "cell_type": "code",
      "source": [
        "\n",
        "\n",
        "relu_loss = history_loss()\n",
        "\n",
        "nn_relu.fit(X_train_f , y_train , epochs = 20 , batch_size= batch_size , callbacks = [relu_loss] , validation_split = 0.2 , verbose = 2 )"
      ],
      "metadata": {
        "colab": {
          "base_uri": "https://localhost:8080/"
        },
        "id": "_yIyNiDYlxKX",
        "outputId": "3e6577b6-2b0b-4ad5-e9b6-106ec812f3ee"
      },
      "execution_count": 14,
      "outputs": [
        {
          "output_type": "stream",
          "name": "stdout",
          "text": [
            "Epoch 1/20\n",
            "188/188 - 2s - loss: 2.2135 - accuracy: 0.3707 - val_loss: 2.0259 - val_accuracy: 0.5685 - 2s/epoch - 11ms/step\n",
            "Epoch 2/20\n",
            "188/188 - 1s - loss: 1.3988 - accuracy: 0.6860 - val_loss: 0.7538 - val_accuracy: 0.8110 - 924ms/epoch - 5ms/step\n",
            "Epoch 3/20\n",
            "188/188 - 1s - loss: 0.5976 - accuracy: 0.8318 - val_loss: 0.4993 - val_accuracy: 0.8588 - 940ms/epoch - 5ms/step\n",
            "Epoch 4/20\n",
            "188/188 - 1s - loss: 0.4134 - accuracy: 0.8802 - val_loss: 0.4102 - val_accuracy: 0.8727 - 1s/epoch - 7ms/step\n",
            "Epoch 5/20\n",
            "188/188 - 1s - loss: 0.3423 - accuracy: 0.8996 - val_loss: 0.3064 - val_accuracy: 0.9104 - 1s/epoch - 6ms/step\n",
            "Epoch 6/20\n",
            "188/188 - 1s - loss: 0.2984 - accuracy: 0.9120 - val_loss: 0.2749 - val_accuracy: 0.9172 - 900ms/epoch - 5ms/step\n",
            "Epoch 7/20\n",
            "188/188 - 1s - loss: 0.2721 - accuracy: 0.9198 - val_loss: 0.2871 - val_accuracy: 0.9129 - 918ms/epoch - 5ms/step\n",
            "Epoch 8/20\n",
            "188/188 - 1s - loss: 0.2462 - accuracy: 0.9276 - val_loss: 0.2418 - val_accuracy: 0.9292 - 858ms/epoch - 5ms/step\n",
            "Epoch 9/20\n",
            "188/188 - 1s - loss: 0.2264 - accuracy: 0.9332 - val_loss: 0.2133 - val_accuracy: 0.9381 - 897ms/epoch - 5ms/step\n",
            "Epoch 10/20\n",
            "188/188 - 1s - loss: 0.2108 - accuracy: 0.9388 - val_loss: 0.2137 - val_accuracy: 0.9398 - 865ms/epoch - 5ms/step\n",
            "Epoch 11/20\n",
            "188/188 - 1s - loss: 0.1964 - accuracy: 0.9425 - val_loss: 0.1898 - val_accuracy: 0.9451 - 877ms/epoch - 5ms/step\n",
            "Epoch 12/20\n",
            "188/188 - 1s - loss: 0.1844 - accuracy: 0.9469 - val_loss: 0.1999 - val_accuracy: 0.9422 - 1s/epoch - 6ms/step\n",
            "Epoch 13/20\n",
            "188/188 - 1s - loss: 0.1733 - accuracy: 0.9493 - val_loss: 0.1856 - val_accuracy: 0.9472 - 993ms/epoch - 5ms/step\n",
            "Epoch 14/20\n",
            "188/188 - 1s - loss: 0.1634 - accuracy: 0.9532 - val_loss: 0.1921 - val_accuracy: 0.9431 - 970ms/epoch - 5ms/step\n",
            "Epoch 15/20\n",
            "188/188 - 1s - loss: 0.1546 - accuracy: 0.9553 - val_loss: 0.1771 - val_accuracy: 0.9484 - 826ms/epoch - 4ms/step\n",
            "Epoch 16/20\n",
            "188/188 - 1s - loss: 0.1455 - accuracy: 0.9582 - val_loss: 0.1631 - val_accuracy: 0.9531 - 1s/epoch - 7ms/step\n",
            "Epoch 17/20\n",
            "188/188 - 1s - loss: 0.1373 - accuracy: 0.9601 - val_loss: 0.1725 - val_accuracy: 0.9487 - 1s/epoch - 6ms/step\n",
            "Epoch 18/20\n",
            "188/188 - 1s - loss: 0.1313 - accuracy: 0.9626 - val_loss: 0.1430 - val_accuracy: 0.9596 - 862ms/epoch - 5ms/step\n",
            "Epoch 19/20\n",
            "188/188 - 1s - loss: 0.1245 - accuracy: 0.9641 - val_loss: 0.1619 - val_accuracy: 0.9539 - 858ms/epoch - 5ms/step\n",
            "Epoch 20/20\n",
            "188/188 - 1s - loss: 0.1186 - accuracy: 0.9662 - val_loss: 0.1385 - val_accuracy: 0.9597 - 844ms/epoch - 4ms/step\n"
          ]
        },
        {
          "output_type": "execute_result",
          "data": {
            "text/plain": [
              "<keras.callbacks.History at 0x7f79ddd64340>"
            ]
          },
          "metadata": {},
          "execution_count": 14
        }
      ]
    },
    {
      "cell_type": "code",
      "source": [
        "\n",
        "elu_loss = history_loss()\n",
        "\n",
        "nn_elu.fit(X_train_f , y_train , epochs = 20 , batch_size= batch_size , callbacks = [elu_loss] , validation_split = 0.2 , verbose = 2 )"
      ],
      "metadata": {
        "colab": {
          "base_uri": "https://localhost:8080/"
        },
        "id": "y4G2Hu0Pr_eW",
        "outputId": "bebca064-3d5d-472d-d1a1-16135a492e53"
      },
      "execution_count": 15,
      "outputs": [
        {
          "output_type": "stream",
          "name": "stdout",
          "text": [
            "Epoch 1/20\n",
            "188/188 - 3s - loss: 0.8204 - accuracy: 0.7903 - val_loss: 0.4273 - val_accuracy: 0.8878 - 3s/epoch - 14ms/step\n",
            "Epoch 2/20\n",
            "188/188 - 1s - loss: 0.3931 - accuracy: 0.8903 - val_loss: 0.3287 - val_accuracy: 0.9081 - 866ms/epoch - 5ms/step\n",
            "Epoch 3/20\n",
            "188/188 - 1s - loss: 0.3282 - accuracy: 0.9045 - val_loss: 0.2934 - val_accuracy: 0.9166 - 870ms/epoch - 5ms/step\n",
            "Epoch 4/20\n",
            "188/188 - 1s - loss: 0.2970 - accuracy: 0.9127 - val_loss: 0.2741 - val_accuracy: 0.9216 - 872ms/epoch - 5ms/step\n",
            "Epoch 5/20\n",
            "188/188 - 1s - loss: 0.2761 - accuracy: 0.9190 - val_loss: 0.2554 - val_accuracy: 0.9268 - 836ms/epoch - 4ms/step\n",
            "Epoch 6/20\n",
            "188/188 - 1s - loss: 0.2589 - accuracy: 0.9247 - val_loss: 0.2456 - val_accuracy: 0.9282 - 885ms/epoch - 5ms/step\n",
            "Epoch 7/20\n",
            "188/188 - 1s - loss: 0.2450 - accuracy: 0.9284 - val_loss: 0.2343 - val_accuracy: 0.9311 - 883ms/epoch - 5ms/step\n",
            "Epoch 8/20\n",
            "188/188 - 1s - loss: 0.2326 - accuracy: 0.9324 - val_loss: 0.2261 - val_accuracy: 0.9356 - 833ms/epoch - 4ms/step\n",
            "Epoch 9/20\n",
            "188/188 - 1s - loss: 0.2210 - accuracy: 0.9356 - val_loss: 0.2141 - val_accuracy: 0.9388 - 912ms/epoch - 5ms/step\n",
            "Epoch 10/20\n",
            "188/188 - 1s - loss: 0.2105 - accuracy: 0.9387 - val_loss: 0.2034 - val_accuracy: 0.9423 - 877ms/epoch - 5ms/step\n",
            "Epoch 11/20\n",
            "188/188 - 1s - loss: 0.2011 - accuracy: 0.9407 - val_loss: 0.1982 - val_accuracy: 0.9450 - 868ms/epoch - 5ms/step\n",
            "Epoch 12/20\n",
            "188/188 - 1s - loss: 0.1917 - accuracy: 0.9449 - val_loss: 0.1925 - val_accuracy: 0.9463 - 1s/epoch - 6ms/step\n",
            "Epoch 13/20\n",
            "188/188 - 1s - loss: 0.1837 - accuracy: 0.9459 - val_loss: 0.1836 - val_accuracy: 0.9497 - 1s/epoch - 6ms/step\n",
            "Epoch 14/20\n",
            "188/188 - 1s - loss: 0.1761 - accuracy: 0.9486 - val_loss: 0.1775 - val_accuracy: 0.9507 - 942ms/epoch - 5ms/step\n",
            "Epoch 15/20\n",
            "188/188 - 1s - loss: 0.1693 - accuracy: 0.9502 - val_loss: 0.1746 - val_accuracy: 0.9505 - 871ms/epoch - 5ms/step\n",
            "Epoch 16/20\n",
            "188/188 - 1s - loss: 0.1626 - accuracy: 0.9524 - val_loss: 0.1685 - val_accuracy: 0.9520 - 909ms/epoch - 5ms/step\n",
            "Epoch 17/20\n",
            "188/188 - 1s - loss: 0.1569 - accuracy: 0.9540 - val_loss: 0.1623 - val_accuracy: 0.9543 - 904ms/epoch - 5ms/step\n",
            "Epoch 18/20\n",
            "188/188 - 1s - loss: 0.1514 - accuracy: 0.9557 - val_loss: 0.1584 - val_accuracy: 0.9553 - 864ms/epoch - 5ms/step\n",
            "Epoch 19/20\n",
            "188/188 - 1s - loss: 0.1458 - accuracy: 0.9572 - val_loss: 0.1566 - val_accuracy: 0.9561 - 880ms/epoch - 5ms/step\n",
            "Epoch 20/20\n",
            "188/188 - 1s - loss: 0.1410 - accuracy: 0.9588 - val_loss: 0.1511 - val_accuracy: 0.9576 - 856ms/epoch - 5ms/step\n"
          ]
        },
        {
          "output_type": "execute_result",
          "data": {
            "text/plain": [
              "<keras.callbacks.History at 0x7f79ddba20a0>"
            ]
          },
          "metadata": {},
          "execution_count": 15
        }
      ]
    },
    {
      "cell_type": "code",
      "source": [
        "import numpy as np\n",
        "plt.plot(np.arange(len(sigmoid_loss.losses)) , sigmoid_loss.losses , label = 'sogmoid')\n",
        "plt.plot(np.arange(len(relu_loss.losses)) , relu_loss.losses , label = 'relu')\n",
        "plt.plot(np.arange(len(elu_loss.losses)) , elu_loss.losses , label = 'elu')\n",
        "plt.title('loss')\n",
        "plt.legend(loc = 'best')"
      ],
      "metadata": {
        "colab": {
          "base_uri": "https://localhost:8080/",
          "height": 299
        },
        "id": "mxFwjosFsYhK",
        "outputId": "f5ce6fc1-948f-47ac-c45d-81653e1f5adc"
      },
      "execution_count": 23,
      "outputs": [
        {
          "output_type": "execute_result",
          "data": {
            "text/plain": [
              "<matplotlib.legend.Legend at 0x7f79db149d00>"
            ]
          },
          "metadata": {},
          "execution_count": 23
        },
        {
          "output_type": "display_data",
          "data": {
            "text/plain": [
              "<Figure size 432x288 with 1 Axes>"
            ],
            "image/png": "[encoded data removed]"
          },
          "metadata": {
            "needs_background": "light"
          }
        }
      ]
    },
    {
      "cell_type": "code",
      "source": [],
      "metadata": {
        "id": "Z0lsWH-SsnHb"
      },
      "execution_count": null,
      "outputs": []
    }
  ]
}